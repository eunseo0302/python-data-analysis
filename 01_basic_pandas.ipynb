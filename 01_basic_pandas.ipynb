# 01_basic_pandas.ipynb
# Basic pandas practice: creating and manipulating DataFrames

import pandas as pd
import numpy as np

# 1. Create a basic DataFrame
data = {
    'Name': ['a', 'b', 'c', 'd'],
    'Age': [2, np.nan, 1, 4],
    'Score': [1, 2, np.nan, 4]
}
df = pd.DataFrame(data)
print(df)

# 2. Fill missing values
df = df.fillna(3)
print(df)

# 3. Add a new column 'Grade'
df['Grade'] = ['A', 'B', 'A', 'C']
print(df)

# 4. Drop the 'Score' column
df = df.drop('Score', axis=1)
print(df)

# 5. Drop a row (index 1)
df = df.drop(1, axis=0)
print(df)

# 6. Reset index
df = df.reset_index(drop=True)
print(df)

# 7. Filter rows where Age is greater than or equal to 2
filtered_df = df[df['Age'] >= 2]
print(filtered_df)

# 8. Group by 'Name' and calculate the mean of 'Age'
# (Here, Age will be grouped by Name)
grouped = df.groupby('Name')['Age'].mean()
print(grouped)

# 9. Sort the DataFrame by 'Age' in descending order
sorted_df = df.sort_values('Age', ascending=False)
print(sorted_df)

Add basic pandas practice notebook (DataFrame creation, manipulation, filtering, grouping, sorting, missing value handling)
