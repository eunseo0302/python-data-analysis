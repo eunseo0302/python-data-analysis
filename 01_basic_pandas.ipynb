{
 "cells": [
  {
   "cell_type": "code",
   "execution_count": 1,
   "id": "a98bbb79-b97e-403f-92a1-acbc233df321",
   "metadata": {},
   "outputs": [],
   "source": [
    "# 01_basic_pandas.ipynb\n",
    "# Basic pandas practice: creating and manipulating DataFrames\n",
    "\n",
    "import pandas as pd\n",
    "import numpy as np"
   ]
  },
  {
   "cell_type": "code",
   "execution_count": 3,
   "id": "ab3890ed-c35a-4e2f-846c-7b2de38ecb02",
   "metadata": {},
   "outputs": [
    {
     "name": "stdout",
     "output_type": "stream",
     "text": [
      "  Name  Age  Score\n",
      "0    a  2.0    1.0\n",
      "1    b  NaN    2.0\n",
      "2    c  1.0    NaN\n",
      "3    d  4.0    4.0\n"
     ]
    }
   ],
   "source": [
    "# 1. Create a basic DataFrame\n",
    "data = {\n",
    "    'Name': ['a', 'b', 'c', 'd'],\n",
    "    'Age': [2, np.nan, 1, 4],\n",
    "    'Score': [1, 2, np.nan, 4]\n",
    "}\n",
    "df = pd.DataFrame(data)\n",
    "print(df)"
   ]
  },
  {
   "cell_type": "code",
   "execution_count": 5,
   "id": "ceb68e4f-a0db-486f-aae8-00b78c748af0",
   "metadata": {},
   "outputs": [
    {
     "name": "stdout",
     "output_type": "stream",
     "text": [
      "  Name  Age  Score\n",
      "0    a  2.0    1.0\n",
      "1    b  3.0    2.0\n",
      "2    c  1.0    3.0\n",
      "3    d  4.0    4.0\n"
     ]
    }
   ],
   "source": [
    "# 2. Fill missing values\n",
    "df = df.fillna(3)\n",
    "print(df)"
   ]
  },
  {
   "cell_type": "code",
   "execution_count": 7,
   "id": "600c63a7-c429-4b50-afbd-2552d027dc67",
   "metadata": {},
   "outputs": [
    {
     "name": "stdout",
     "output_type": "stream",
     "text": [
      "  Name  Age  Score Grade\n",
      "0    a  2.0    1.0     A\n",
      "1    b  3.0    2.0     B\n",
      "2    c  1.0    3.0     A\n",
      "3    d  4.0    4.0     C\n"
     ]
    }
   ],
   "source": [
    "# 3. Add a new column 'Grade'\n",
    "df['Grade'] = ['A', 'B', 'A', 'C']\n",
    "print(df)"
   ]
  },
  {
   "cell_type": "code",
   "execution_count": 9,
   "id": "4075079c-a059-4fe6-a456-8e7763eb52dd",
   "metadata": {},
   "outputs": [
    {
     "name": "stdout",
     "output_type": "stream",
     "text": [
      "  Name  Age Grade\n",
      "0    a  2.0     A\n",
      "1    b  3.0     B\n",
      "2    c  1.0     A\n",
      "3    d  4.0     C\n"
     ]
    }
   ],
   "source": [
    "# 4. Drop the 'Score' column\n",
    "df = df.drop('Score', axis=1)\n",
    "print(df)"
   ]
  },
  {
   "cell_type": "code",
   "execution_count": 11,
   "id": "f40744c2-99a2-40be-bef3-ad868b82d893",
   "metadata": {},
   "outputs": [
    {
     "name": "stdout",
     "output_type": "stream",
     "text": [
      "  Name  Age Grade\n",
      "0    a  2.0     A\n",
      "2    c  1.0     A\n",
      "3    d  4.0     C\n"
     ]
    }
   ],
   "source": [
    "# 5. Drop a row (index 1)\n",
    "df = df.drop(1, axis=0)\n",
    "print(df)"
   ]
  },
  {
   "cell_type": "code",
   "execution_count": 13,
   "id": "3ed2206b-22d5-4f27-a245-c24f500864b3",
   "metadata": {},
   "outputs": [
    {
     "name": "stdout",
     "output_type": "stream",
     "text": [
      "  Name  Age Grade\n",
      "0    a  2.0     A\n",
      "1    c  1.0     A\n",
      "2    d  4.0     C\n"
     ]
    }
   ],
   "source": [
    "# 6. Reset index\n",
    "df = df.reset_index(drop=True)\n",
    "print(df)"
   ]
  },
  {
   "cell_type": "code",
   "execution_count": 15,
   "id": "50252a7b-764f-44d9-9fbc-3130df6c2d18",
   "metadata": {},
   "outputs": [
    {
     "name": "stdout",
     "output_type": "stream",
     "text": [
      "  Name  Age Grade\n",
      "0    a  2.0     A\n",
      "2    d  4.0     C\n"
     ]
    }
   ],
   "source": [
    "# 7. Filter rows where Age is greater than or equal to 2\n",
    "filtered_df = df[df['Age'] >= 2]\n",
    "print(filtered_df)"
   ]
  },
  {
   "cell_type": "code",
   "execution_count": 17,
   "id": "6a20bbb9-4a83-4273-a7a7-e66bf66ed2b6",
   "metadata": {},
   "outputs": [
    {
     "name": "stdout",
     "output_type": "stream",
     "text": [
      "Name\n",
      "a    2.0\n",
      "c    1.0\n",
      "d    4.0\n",
      "Name: Age, dtype: float64\n"
     ]
    }
   ],
   "source": [
    "# 8. Group by 'Name' and calculate the mean of 'Age'\n",
    "# (Here, Age will be grouped by Name)\n",
    "grouped = df.groupby('Name')['Age'].mean()\n",
    "print(grouped)"
   ]
  },
  {
   "cell_type": "code",
   "execution_count": 19,
   "id": "0d23ec4f-7140-4fda-a6e3-dd1573fce755",
   "metadata": {},
   "outputs": [
    {
     "name": "stdout",
     "output_type": "stream",
     "text": [
      "  Name  Age Grade\n",
      "2    d  4.0     C\n",
      "0    a  2.0     A\n",
      "1    c  1.0     A\n"
     ]
    }
   ],
   "source": [
    "# 9. Sort the DataFrame by 'Age' in descending order\n",
    "sorted_df = df.sort_values('Age', ascending=False)\n",
    "print(sorted_df)"
   ]
  },
  {
   "cell_type": "code",
   "execution_count": null,
   "id": "3d3ba1ac-3c2a-4264-a0b9-fd795c1ecd44",
   "metadata": {},
   "outputs": [],
   "source": []
  }
 ],
 "metadata": {
  "kernelspec": {
   "display_name": "Python [conda env:base] *",
   "language": "python",
   "name": "conda-base-py"
  },
  "language_info": {
   "codemirror_mode": {
    "name": "ipython",
    "version": 3
   },
   "file_extension": ".py",
   "mimetype": "text/x-python",
   "name": "python",
   "nbconvert_exporter": "python",
   "pygments_lexer": "ipython3",
   "version": "3.12.7"
  }
 },
 "nbformat": 4,
 "nbformat_minor": 5
}
