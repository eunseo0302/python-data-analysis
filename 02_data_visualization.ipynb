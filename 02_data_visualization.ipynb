# 02_data_visualization.ipynb
# Basic matplotlib practice: line plot, bar plot, histogram

import pandas as pd
import numpy as np
import matplotlib.pyplot as plt

# 1. Create a basic DataFrame
data = {
    'Name': ['a', 'b', 'c', 'd'],
    'Age': [2, np.nan, 1, 4],
    'Score': [1, 2, np.nan, 4]
}
df = pd.DataFrame(data)

# Fill missing values for visualization
df = df.fillna(3)

print(df)

# 2. Line plot: Name vs Score
plt.plot(df['Name'], df['Score'])
plt.title('Student Scores - Line Plot')
plt.xlabel('Name')
plt.ylabel('Score')
plt.show()

# 3. Bar plot: Name vs Score
plt.bar(df['Name'], df['Score'])
plt.title('Student Scores - Bar Plot')
plt.xlabel('Name')
plt.ylabel('Score')
plt.show()

# 4. Histogram: Score distribution
plt.hist(df['Score'], bins=5)
plt.title('Score Distribution - Histogram')
plt.xlabel('Score')
plt.ylabel('Count')
plt.show()

Add basic matplotlib visualization notebook (line plot, bar plot, histogram)
